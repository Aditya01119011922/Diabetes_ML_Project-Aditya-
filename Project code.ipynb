{
 "cells": [
  {
   "cell_type": "code",
   "execution_count": 1,
   "id": "133ffccc",
   "metadata": {},
   "outputs": [],
   "source": [
    "## importing all requirde libraries ##\n",
    "\n",
    "import numpy as np\n",
    "import pandas as pd\n",
    "import matplotlib.pyplot as plt\n",
    "from sklearn.model_selection import train_test_split\n",
    "import warnings\n",
    "warnings.filterwarnings(\"ignore\")\n",
    "from sklearn.preprocessing import LabelEncoder"
   ]
  },
  {
   "cell_type": "code",
   "execution_count": 2,
   "id": "9b046242",
   "metadata": {},
   "outputs": [
    {
     "data": {
      "text/html": [
       "<div>\n",
       "<style scoped>\n",
       "    .dataframe tbody tr th:only-of-type {\n",
       "        vertical-align: middle;\n",
       "    }\n",
       "\n",
       "    .dataframe tbody tr th {\n",
       "        vertical-align: top;\n",
       "    }\n",
       "\n",
       "    .dataframe thead th {\n",
       "        text-align: right;\n",
       "    }\n",
       "</style>\n",
       "<table border=\"1\" class=\"dataframe\">\n",
       "  <thead>\n",
       "    <tr style=\"text-align: right;\">\n",
       "      <th></th>\n",
       "      <th>Pregnancies</th>\n",
       "      <th>Glucose</th>\n",
       "      <th>BloodPressure</th>\n",
       "      <th>SkinThickness</th>\n",
       "      <th>Insulin</th>\n",
       "      <th>BMI</th>\n",
       "      <th>DiabetesPedigreeFunction</th>\n",
       "      <th>Age</th>\n",
       "      <th>Outcome</th>\n",
       "    </tr>\n",
       "  </thead>\n",
       "  <tbody>\n",
       "    <tr>\n",
       "      <th>0</th>\n",
       "      <td>6</td>\n",
       "      <td>148</td>\n",
       "      <td>72</td>\n",
       "      <td>35</td>\n",
       "      <td>0</td>\n",
       "      <td>33.6</td>\n",
       "      <td>0.627</td>\n",
       "      <td>50</td>\n",
       "      <td>1</td>\n",
       "    </tr>\n",
       "    <tr>\n",
       "      <th>1</th>\n",
       "      <td>1</td>\n",
       "      <td>85</td>\n",
       "      <td>66</td>\n",
       "      <td>29</td>\n",
       "      <td>0</td>\n",
       "      <td>26.6</td>\n",
       "      <td>0.351</td>\n",
       "      <td>31</td>\n",
       "      <td>0</td>\n",
       "    </tr>\n",
       "    <tr>\n",
       "      <th>2</th>\n",
       "      <td>8</td>\n",
       "      <td>183</td>\n",
       "      <td>64</td>\n",
       "      <td>0</td>\n",
       "      <td>0</td>\n",
       "      <td>23.3</td>\n",
       "      <td>0.672</td>\n",
       "      <td>32</td>\n",
       "      <td>1</td>\n",
       "    </tr>\n",
       "    <tr>\n",
       "      <th>3</th>\n",
       "      <td>1</td>\n",
       "      <td>89</td>\n",
       "      <td>66</td>\n",
       "      <td>23</td>\n",
       "      <td>94</td>\n",
       "      <td>28.1</td>\n",
       "      <td>0.167</td>\n",
       "      <td>21</td>\n",
       "      <td>0</td>\n",
       "    </tr>\n",
       "    <tr>\n",
       "      <th>4</th>\n",
       "      <td>0</td>\n",
       "      <td>137</td>\n",
       "      <td>40</td>\n",
       "      <td>35</td>\n",
       "      <td>168</td>\n",
       "      <td>43.1</td>\n",
       "      <td>2.288</td>\n",
       "      <td>33</td>\n",
       "      <td>1</td>\n",
       "    </tr>\n",
       "  </tbody>\n",
       "</table>\n",
       "</div>"
      ],
      "text/plain": [
       "   Pregnancies  Glucose  BloodPressure  SkinThickness  Insulin   BMI  \\\n",
       "0            6      148             72             35        0  33.6   \n",
       "1            1       85             66             29        0  26.6   \n",
       "2            8      183             64              0        0  23.3   \n",
       "3            1       89             66             23       94  28.1   \n",
       "4            0      137             40             35      168  43.1   \n",
       "\n",
       "   DiabetesPedigreeFunction  Age  Outcome  \n",
       "0                     0.627   50        1  \n",
       "1                     0.351   31        0  \n",
       "2                     0.672   32        1  \n",
       "3                     0.167   21        0  \n",
       "4                     2.288   33        1  "
      ]
     },
     "execution_count": 2,
     "metadata": {},
     "output_type": "execute_result"
    }
   ],
   "source": [
    "# installing the dataset\n",
    "df = pd.read_csv('C:/Users/adity_l6rtzw/Downloads/diabetes.csv')\n",
    "df.head()"
   ]
  },
  {
   "cell_type": "code",
   "execution_count": 3,
   "id": "5705fe59",
   "metadata": {},
   "outputs": [
    {
     "data": {
      "text/plain": [
       "Pregnancies                   int64\n",
       "Glucose                       int64\n",
       "BloodPressure                 int64\n",
       "SkinThickness                 int64\n",
       "Insulin                       int64\n",
       "BMI                         float64\n",
       "DiabetesPedigreeFunction    float64\n",
       "Age                           int64\n",
       "Outcome                       int64\n",
       "dtype: object"
      ]
     },
     "execution_count": 3,
     "metadata": {},
     "output_type": "execute_result"
    }
   ],
   "source": [
    "# Dataset types\n",
    "df.dtypes"
   ]
  },
  {
   "cell_type": "code",
   "execution_count": 4,
   "id": "4d53d217",
   "metadata": {},
   "outputs": [
    {
     "name": "stdout",
     "output_type": "stream",
     "text": [
      "[0 1]\n"
     ]
    }
   ],
   "source": [
    "print(np.unique( df['Outcome']))"
   ]
  },
  {
   "cell_type": "code",
   "execution_count": 5,
   "id": "824d54f7",
   "metadata": {},
   "outputs": [
    {
     "data": {
      "text/plain": [
       "Index(['Pregnancies', 'Glucose', 'BloodPressure', 'SkinThickness', 'Insulin',\n",
       "       'BMI', 'DiabetesPedigreeFunction', 'Age', 'Outcome'],\n",
       "      dtype='object')"
      ]
     },
     "execution_count": 5,
     "metadata": {},
     "output_type": "execute_result"
    }
   ],
   "source": [
    "df.columns"
   ]
  },
  {
   "cell_type": "code",
   "execution_count": 6,
   "id": "00ba25e6",
   "metadata": {},
   "outputs": [
    {
     "name": "stdout",
     "output_type": "stream",
     "text": [
      "(768, 8)\n",
      "(768,)\n"
     ]
    }
   ],
   "source": [
    "df.columns\n",
    "selected_df=df[['Pregnancies', 'Glucose', 'BloodPressure', 'SkinThickness', 'Insulin',\n",
    "       'BMI', 'DiabetesPedigreeFunction', 'Age',]]\n",
    "\n",
    "#independent var(Data)\n",
    "X=np.asarray(selected_df)\n",
    "\n",
    "#dependent var(target)\n",
    "y=np.asarray(df['Outcome'])\n",
    "\n",
    "print(X.shape)\n",
    "print(y.shape)"
   ]
  },
  {
   "cell_type": "code",
   "execution_count": 7,
   "id": "1a67e004",
   "metadata": {},
   "outputs": [
    {
     "data": {
      "text/plain": [
       "(154,)"
      ]
     },
     "execution_count": 7,
     "metadata": {},
     "output_type": "execute_result"
    }
   ],
   "source": [
    "# Training the datasrt\n",
    "X_train, X_test, y_train, y_test = train_test_split(X, y, test_size=0.2, random_state=42)\n",
    "X_train.shape\n",
    "X_test.shape\n",
    "y_train.shape\n",
    "y_test.shape\n"
   ]
  },
  {
   "cell_type": "code",
   "execution_count": 8,
   "id": "f2dc9115",
   "metadata": {},
   "outputs": [
    {
     "name": "stdout",
     "output_type": "stream",
     "text": [
      "kneighbors :- 0.6623376623376623\n",
      "svc :- 0.7662337662337663\n",
      "gaussionNB :- 0.7662337662337663\n",
      "perceptron :- 0.5714285714285714\n",
      "decisiontree :- 0.7922077922077922\n"
     ]
    }
   ],
   "source": [
    "# importing all requirde libraries and modules\n",
    "from sklearn.linear_model import Perceptron\n",
    "from sklearn.svm import SVC\n",
    "from sklearn.tree import DecisionTreeClassifier\n",
    "from sklearn.neighbors import KNeighborsClassifier\n",
    "from sklearn.naive_bayes import GaussianNB\n",
    "\n",
    "\n",
    "# Giving Parameters to the fumctions\n",
    "clf1=KNeighborsClassifier(n_neighbors=5,metric=\"minkowski\")\n",
    "clf2=SVC(C=1.0,kernel=\"rbf\")\n",
    "clf3=GaussianNB(priors=None)\n",
    "clf4=Perceptron(alpha=0,l1_ratio=0.15,max_iter=100)\n",
    "clf5=DecisionTreeClassifier(criterion=\"gini\",splitter=\"best\", max_depth=5)\n",
    "\n",
    "\n",
    "clf=[clf1,clf2,clf3,clf4,clf5]\n",
    "clf_name=[\"kneighbors\",\"svc\",\"gaussionNB\",\"perceptron\",\"decisiontree\"]\n",
    "\n",
    "from sklearn.metrics import accuracy_score \n",
    "accuracy={}\n",
    "import time \n",
    "acc={}\n",
    "t={}\n",
    "for model,model_name in zip(clf,clf_name):\n",
    "    st=time.time()\n",
    "    model.fit(X_train,y_train)\n",
    "    pred=model.predict(X_test)\n",
    "    et=time.time()\n",
    "    acc[model_name]=accuracy_score(y_test,pred)\n",
    "    t[model_name]=et-st\n",
    "\n",
    "for i,j in acc.items():\n",
    "    print(i,\":-\",j)\n"
   ]
  },
  {
   "cell_type": "code",
   "execution_count": 9,
   "id": "16b7d1b0",
   "metadata": {},
   "outputs": [
    {
     "name": "stdout",
     "output_type": "stream",
     "text": [
      "Algorithm: K-Means\n",
      "Cluster Labels:\n",
      "[0 0 0 2 3 0 2 0 4 0 0 0 0 4 3 0 3 0 2 2 3 0 0 0 3 2 0 3 2 0 0 1 2 0 0 3 0\n",
      " 0 0 3 2 0 0 1 0 0 0 0 0 0 2 0 0 1 1 0 1 2 0 3 0 0 0 3 0 0 0 0 2 2 2 3 0 1\n",
      " 0 0 0 0 0 0 0 0 2 0 0 2 0 2 2 0 0 3 2 0 2 3 0 2 2 3 0 0 0 2 0 3 0 3 0 2 3\n",
      " 4 2 0 3 0 0 0 0 2 2 0 2 0 0 2 3 2 3 0 3 0 3 0 2 3 2 2 0 1 0 0 2 0 1 0 0 2\n",
      " 0 0 3 0 3 4 0 0 2 3 2 3 0 2 1 0 0 3 0 0 0 2 0 3 0 2 2 3 0 3 0 0 0 2 2 0 0\n",
      " 0 4 2 2 3 0 2 0 0 0 3 0 2 2 1 0 0 0 2 3 0 1 0 2 0 0 0 0 3 3 1 3 2 0 0 4 0\n",
      " 0 3 2 0 0 0 4 2 0 1 2 0 2 0 3 0 0 0 0 2 0 3 3 0 0 4 1 0 0 0 2 0 1 0 0 0 1\n",
      " 3 3 0 0 0 0 2 0 0 0 0 0 2 0 2 0 2 0 2 0 1 0 3 3 0 0 3 4 3 2 2 2 2 3 3 0 3\n",
      " 1 3 3 0 0 3 2 0 0 2 3 3 3 3 0 3 2 2 0 2 2 0 3 0 3 0 0 0 0 3 3 0 2 2 0 2 0\n",
      " 0 2 1 0 0 3 0 2 2 0 0 0 2 2 0 2 0 0 0 0 2 0 0 3 0 2 1 1 0 0 0 1 2 0 0 2 3\n",
      " 4 2 2 2 3 1 2 2 0 2 2 0 3 2 2 2 0 0 1 2 3 0 1 2 0 1 2 0 0 0 0 0 2 0 0 3 0\n",
      " 0 0 4 0 3 1 2 3 4 0 0 0 2 3 2 2 0 3 1 0 3 3 3 0 2 2 0 0 0 0 0 0 0 0 2 2 0\n",
      " 0 0 2 2 2 2 2 0 3 0 2 0 0 2 1 2 2 0 2 0 0 2 2 2 0 3 0 0 0 0 0 0 3 2 2 0 1\n",
      " 0 2 2 0 1 4 1 0 0 2 0 0 3 0 0 0 2 3 3 2 0 0 2 0 0 2 3 2 0 0 3 0 0 2 2 3 0\n",
      " 0 1 2 3 0 0 0 0 2 2 3 0 2 0 2 0 2 0 0 0 3 3 3 3 0 2 2 3 3 3 2 0 0 2 0 2 2\n",
      " 3 0 0 0 0 0 1 2 2 0 2 0 2 3 3 0 0 2 2 1 2 3 0 0 0 0 0 0 0 4 0 0 0 3 0 0 3\n",
      " 0 2 3 3 0 0 0 2 0 0 0 3 0 0 1 2 1 3 3 3 1 0 3 0 0 0 0 0 3 0 0 2 0 2 0 0 0\n",
      " 0 0 2 0 3 0 0 0 2 2 2 2 0 0 0 3 4 3 3 3 0 2 2 2 0 3 4 2 3 0 2 0 0 3 3 0 3\n",
      " 0 0 3 2 3 0 2 1 0 0 0 0 0 1 2 0 2 0 0 3 0 0 3 3 0 0 2 3 0 4 3 0 3 0 3 0 0\n",
      " 0 2 0 0 1 0 3 1 0 0 1 0 1 3 0 3 0 0 3 3 2 0 0 3 0 0 0 2 0 3 3 0 0 2 0 3 0\n",
      " 3 2 2 0 3 2 0 2 3 0 0 2 0 4 0 2 0 0 0 0 0 0 0 3 0 2 0 0]\n",
      "------\n",
      "Algorithm: Agglomerative\n",
      "Cluster Labels:\n",
      "[0 0 0 1 3 0 1 0 2 0 0 0 0 2 3 0 3 0 1 1 3 0 0 0 3 1 0 1 1 0 0 3 1 0 0 3 0\n",
      " 0 0 3 1 0 0 3 0 0 0 0 0 0 1 1 0 4 4 0 4 1 0 1 0 0 0 3 0 0 0 0 1 1 1 3 0 4\n",
      " 0 0 0 0 0 0 0 0 1 0 0 1 0 1 1 0 0 3 1 0 1 3 0 1 1 3 0 0 0 1 0 3 0 3 0 1 3\n",
      " 2 1 0 3 0 0 0 0 1 1 0 1 0 0 1 1 1 3 0 3 0 3 0 1 3 1 1 0 4 0 0 1 0 4 0 0 1\n",
      " 0 0 3 0 3 2 0 0 1 1 1 3 0 1 4 0 0 3 0 0 0 1 0 3 0 1 1 3 0 3 0 0 0 1 0 0 0\n",
      " 0 2 1 1 3 0 1 0 0 0 3 0 1 1 4 0 0 0 1 3 0 4 0 1 0 0 0 0 3 3 4 1 1 0 0 2 0\n",
      " 0 3 1 1 0 0 2 1 0 4 1 0 1 0 3 0 0 0 0 1 0 3 3 0 0 2 4 0 0 0 1 0 4 0 0 0 4\n",
      " 3 3 0 0 0 0 1 0 0 0 0 0 1 0 1 0 1 0 1 0 4 0 1 3 0 0 3 2 3 1 1 1 1 3 3 0 3\n",
      " 4 3 3 0 0 3 1 0 0 1 3 3 3 3 0 1 1 1 0 1 1 0 1 0 3 0 0 0 0 3 3 0 1 1 0 1 0\n",
      " 0 1 3 0 0 3 0 1 1 0 0 0 1 1 0 1 0 0 0 0 1 0 0 3 0 1 4 4 0 0 0 4 1 0 0 1 3\n",
      " 2 1 1 1 3 4 1 1 0 1 1 0 3 1 1 1 0 0 4 1 3 0 4 1 0 4 1 0 0 0 0 0 1 0 0 3 0\n",
      " 0 0 2 0 3 4 1 3 2 0 0 0 1 3 1 1 0 3 4 0 3 3 3 0 1 1 0 0 0 0 0 0 0 0 1 1 0\n",
      " 0 0 1 1 1 1 1 0 3 0 1 0 0 1 3 1 1 0 1 0 0 1 0 1 0 3 0 0 0 0 0 0 3 1 1 0 4\n",
      " 0 1 1 0 3 2 4 0 0 1 0 0 1 0 0 0 1 3 3 1 0 0 1 0 0 1 3 1 0 0 3 0 0 1 1 3 0\n",
      " 0 4 1 1 0 0 0 0 1 1 3 0 1 0 1 0 1 0 0 0 3 3 3 3 0 1 1 3 3 3 1 0 0 1 0 1 1\n",
      " 3 0 0 0 0 0 4 1 1 0 1 0 1 3 3 0 0 1 1 4 1 1 0 0 0 0 0 0 0 2 0 0 0 3 0 0 1\n",
      " 0 1 3 3 0 0 0 1 0 0 0 3 0 0 4 1 4 3 1 3 4 0 3 0 0 0 0 0 3 0 0 1 0 1 0 0 0\n",
      " 0 0 1 0 3 0 0 0 1 1 1 1 0 0 0 1 2 3 3 3 0 1 1 1 0 1 2 1 3 0 1 0 0 3 3 0 1\n",
      " 0 0 3 1 3 0 1 3 0 0 0 0 0 4 1 0 1 0 0 3 0 0 3 3 0 0 1 3 0 2 3 0 3 0 3 0 0\n",
      " 0 1 0 0 4 0 1 4 0 0 4 0 4 3 0 3 0 0 3 3 1 0 0 3 0 0 0 1 0 3 1 0 0 1 0 1 0\n",
      " 3 1 1 0 3 1 0 1 3 0 0 1 0 2 0 1 0 0 0 0 0 0 0 3 0 1 0 0]\n",
      "------\n",
      "Algorithm: DBSCAN\n",
      "Cluster Labels:\n",
      "[-1 -1 -1 -1 -1 -1 -1 -1 -1 -1 -1 -1 -1 -1 -1 -1 -1 -1 -1 -1 -1 -1 -1 -1\n",
      " -1 -1 -1 -1 -1 -1 -1 -1 -1 -1 -1 -1 -1 -1 -1 -1 -1 -1 -1 -1 -1 -1 -1 -1\n",
      " -1 -1 -1 -1 -1 -1 -1 -1 -1 -1 -1 -1 -1 -1 -1 -1 -1 -1 -1 -1 -1 -1 -1 -1\n",
      " -1 -1 -1 -1 -1 -1 -1 -1 -1 -1 -1 -1 -1 -1 -1 -1 -1 -1 -1 -1 -1 -1 -1 -1\n",
      " -1 -1 -1 -1 -1 -1 -1 -1 -1 -1 -1 -1 -1 -1 -1 -1 -1 -1 -1 -1 -1 -1 -1 -1\n",
      " -1 -1 -1 -1 -1 -1 -1 -1 -1 -1 -1 -1 -1 -1 -1 -1 -1 -1 -1 -1 -1 -1 -1 -1\n",
      " -1 -1 -1 -1 -1 -1 -1 -1 -1 -1 -1 -1 -1 -1 -1 -1 -1 -1 -1 -1 -1 -1 -1 -1\n",
      " -1 -1 -1 -1 -1 -1 -1 -1 -1 -1 -1 -1 -1 -1 -1 -1 -1 -1 -1 -1 -1 -1 -1 -1\n",
      " -1 -1 -1 -1 -1 -1 -1 -1 -1 -1 -1 -1 -1 -1 -1 -1 -1 -1 -1 -1 -1 -1 -1 -1\n",
      " -1 -1 -1 -1 -1 -1 -1 -1 -1 -1 -1 -1 -1 -1 -1 -1 -1 -1 -1 -1 -1 -1 -1 -1\n",
      " -1 -1 -1 -1 -1 -1 -1 -1 -1 -1 -1 -1 -1 -1 -1 -1 -1 -1 -1 -1 -1 -1 -1 -1\n",
      " -1 -1 -1 -1 -1 -1 -1 -1 -1 -1 -1 -1 -1 -1 -1 -1 -1 -1 -1 -1 -1 -1 -1 -1\n",
      " -1 -1 -1 -1 -1 -1 -1 -1 -1 -1 -1 -1 -1 -1 -1 -1 -1 -1 -1 -1 -1 -1 -1 -1\n",
      " -1 -1 -1 -1 -1 -1 -1 -1 -1 -1 -1 -1 -1 -1 -1 -1 -1 -1 -1 -1 -1 -1 -1 -1\n",
      " -1 -1 -1 -1 -1 -1 -1 -1 -1 -1 -1 -1 -1 -1 -1 -1 -1 -1 -1 -1 -1 -1 -1 -1\n",
      " -1 -1 -1 -1 -1 -1 -1 -1 -1 -1 -1 -1 -1 -1 -1 -1 -1 -1 -1 -1 -1 -1 -1 -1\n",
      " -1 -1 -1 -1 -1 -1 -1 -1 -1 -1 -1 -1 -1 -1 -1 -1 -1 -1 -1 -1 -1 -1 -1 -1\n",
      " -1 -1 -1 -1 -1 -1 -1 -1 -1 -1 -1 -1 -1 -1 -1 -1 -1 -1 -1 -1 -1 -1 -1 -1\n",
      " -1 -1 -1 -1 -1 -1 -1 -1 -1 -1 -1 -1 -1 -1 -1 -1 -1 -1 -1 -1 -1 -1 -1 -1\n",
      " -1 -1 -1 -1 -1 -1 -1 -1 -1 -1 -1 -1 -1 -1 -1 -1 -1 -1 -1 -1 -1 -1 -1 -1\n",
      " -1 -1 -1 -1 -1 -1 -1 -1 -1 -1 -1 -1 -1 -1 -1 -1 -1 -1 -1 -1 -1 -1 -1 -1\n",
      " -1 -1 -1 -1 -1 -1 -1 -1 -1 -1 -1 -1 -1 -1 -1 -1 -1 -1 -1 -1 -1 -1 -1 -1\n",
      " -1 -1 -1 -1 -1 -1 -1 -1 -1 -1 -1 -1 -1 -1 -1 -1 -1 -1 -1 -1 -1 -1 -1 -1\n",
      " -1 -1 -1 -1 -1 -1 -1 -1 -1 -1 -1 -1 -1 -1 -1 -1 -1 -1 -1 -1 -1 -1 -1 -1\n",
      " -1 -1 -1 -1 -1 -1 -1 -1 -1 -1 -1 -1 -1 -1 -1 -1 -1 -1 -1 -1 -1 -1 -1 -1\n",
      " -1 -1 -1 -1 -1 -1 -1 -1 -1 -1 -1 -1 -1 -1 -1 -1 -1 -1 -1 -1 -1 -1 -1 -1\n",
      " -1 -1 -1 -1 -1 -1 -1 -1 -1 -1 -1 -1 -1 -1 -1 -1 -1 -1 -1 -1 -1 -1 -1 -1\n",
      " -1 -1 -1 -1 -1 -1 -1 -1 -1 -1 -1 -1 -1 -1 -1 -1 -1 -1 -1 -1 -1 -1 -1 -1\n",
      " -1 -1 -1 -1 -1 -1 -1 -1 -1 -1 -1 -1 -1 -1 -1 -1 -1 -1 -1 -1 -1 -1 -1 -1\n",
      " -1 -1 -1 -1 -1 -1 -1 -1 -1 -1 -1 -1 -1 -1 -1 -1 -1 -1 -1 -1 -1 -1 -1 -1\n",
      " -1 -1 -1 -1 -1 -1 -1 -1 -1 -1 -1 -1 -1 -1 -1 -1 -1 -1 -1 -1 -1 -1 -1 -1\n",
      " -1 -1 -1 -1 -1 -1 -1 -1 -1 -1 -1 -1 -1 -1 -1 -1 -1 -1 -1 -1 -1 -1 -1 -1]\n",
      "------\n",
      "Algorithm: GMM\n",
      "Cluster Labels:\n",
      "[2 2 2 0 3 2 3 2 1 2 2 2 2 4 3 2 3 2 0 3 0 2 2 2 3 3 2 0 0 2 2 3 0 2 2 0 2\n",
      " 2 2 3 0 2 2 3 2 3 2 2 2 2 0 0 0 3 0 2 3 0 2 0 2 2 2 0 2 2 2 2 0 0 3 0 2 0\n",
      " 2 2 2 2 2 2 2 2 0 2 2 0 2 0 3 2 2 0 0 2 0 0 2 0 0 3 2 2 2 0 2 0 2 0 0 3 3\n",
      " 1 0 2 3 2 2 2 2 0 3 2 0 2 2 3 0 0 3 2 3 2 3 2 0 0 0 0 2 0 2 2 0 2 0 2 2 0\n",
      " 2 2 0 2 3 1 2 2 0 0 0 3 2 0 0 2 2 3 2 2 2 0 2 3 2 0 0 3 2 3 2 2 2 0 0 2 2\n",
      " 2 1 3 3 3 2 0 2 2 2 3 2 3 3 3 2 2 2 0 0 2 3 2 0 2 2 2 2 3 3 3 3 0 2 2 1 2\n",
      " 2 0 0 0 2 2 4 0 2 3 0 2 0 2 3 2 2 2 2 0 2 3 0 2 2 4 1 2 2 2 0 2 3 2 2 2 0\n",
      " 3 0 2 2 2 2 0 2 2 2 2 2 0 2 0 2 0 2 0 2 0 2 0 0 2 2 0 1 3 0 0 0 3 3 3 2 0\n",
      " 3 0 3 2 2 3 0 2 2 0 3 0 3 3 2 0 3 0 2 0 0 2 0 2 0 2 2 3 2 0 3 2 3 0 2 0 2\n",
      " 2 0 0 2 2 3 2 0 0 2 2 2 0 0 2 0 2 2 2 2 0 2 2 3 2 0 3 3 2 2 2 0 0 2 2 0 3\n",
      " 1 0 0 0 0 3 0 0 2 0 0 2 0 0 0 0 2 2 3 0 0 2 0 0 2 0 0 2 2 2 2 2 3 2 2 0 2\n",
      " 2 2 4 2 0 0 0 3 1 2 2 2 3 0 0 0 2 3 3 2 3 0 3 2 0 0 2 2 2 2 2 2 2 2 0 0 2\n",
      " 2 3 0 0 3 0 0 2 0 2 0 2 2 0 3 0 0 2 0 2 2 0 0 0 2 0 2 2 2 2 2 2 3 0 0 2 3\n",
      " 2 0 0 2 3 1 0 2 2 0 2 2 3 2 2 2 0 3 0 0 2 2 0 2 2 3 0 0 2 2 0 2 2 0 3 3 2\n",
      " 2 0 0 0 2 2 2 2 0 0 0 2 0 2 0 2 0 2 2 2 0 3 3 3 2 0 0 3 3 0 0 2 2 0 2 0 0\n",
      " 0 2 2 2 2 2 3 0 0 2 0 0 0 0 3 2 2 0 0 0 0 0 2 2 2 2 2 2 2 4 2 2 2 3 2 2 0\n",
      " 2 0 0 3 2 0 2 0 2 2 2 3 2 2 3 0 0 0 0 3 3 2 3 2 2 0 2 2 0 2 2 0 2 0 2 2 2\n",
      " 2 2 0 2 0 2 2 2 0 3 0 0 2 2 2 0 0 3 3 3 2 0 0 0 2 0 1 0 0 2 3 2 2 3 3 2 0\n",
      " 2 2 0 0 0 2 0 0 2 2 2 2 2 0 0 2 0 2 2 0 2 2 0 3 2 2 0 3 2 3 3 2 0 2 0 2 2\n",
      " 2 0 2 2 0 2 3 0 0 2 0 2 3 3 2 0 2 2 0 3 0 2 2 0 2 2 2 3 2 3 0 2 2 0 2 0 2\n",
      " 3 0 0 2 0 0 2 0 3 2 2 0 2 1 2 3 2 2 2 2 0 2 2 0 2 0 2 2]\n",
      "------\n",
      "Algorithm: BIRCH\n",
      "Cluster Labels:\n",
      "[0 0 0 1 3 0 1 0 2 0 0 0 0 2 3 0 3 0 1 1 3 0 0 0 3 1 0 1 1 0 0 3 1 0 0 3 0\n",
      " 0 0 3 1 0 0 3 0 0 0 0 0 0 1 1 0 4 4 0 4 1 0 1 0 0 0 3 0 0 0 0 1 1 1 3 0 4\n",
      " 0 0 0 0 0 0 0 0 1 0 0 1 0 1 1 0 0 3 1 0 1 3 0 1 1 3 0 0 0 1 0 3 0 3 0 1 3\n",
      " 2 1 0 3 0 0 0 0 1 1 0 1 0 0 1 1 1 3 0 3 0 3 0 1 3 1 1 0 4 0 0 1 0 4 0 0 1\n",
      " 0 0 3 0 3 2 0 0 1 1 1 3 0 1 4 0 0 3 0 0 0 1 0 3 0 1 1 3 0 3 0 0 0 1 0 0 0\n",
      " 0 2 1 1 3 0 1 0 0 0 3 0 1 1 4 0 0 0 1 3 0 4 0 1 0 0 0 0 3 3 4 1 1 0 0 2 0\n",
      " 0 3 1 1 0 0 2 1 0 4 1 0 1 0 3 0 0 0 0 1 0 3 3 0 0 2 4 0 0 0 1 0 4 0 0 0 4\n",
      " 3 3 0 0 0 0 1 0 0 0 0 0 1 0 1 0 1 0 1 0 4 0 1 3 0 0 3 2 3 1 1 1 1 3 3 0 3\n",
      " 4 3 3 0 0 3 1 0 0 1 3 3 3 3 0 1 1 1 0 1 1 0 1 0 3 0 0 0 0 3 3 0 1 1 0 1 0\n",
      " 0 1 3 0 0 3 0 1 1 0 0 0 1 1 0 1 0 0 0 0 1 0 0 3 0 1 4 4 0 0 0 4 1 0 0 1 3\n",
      " 2 1 1 1 3 4 1 1 0 1 1 0 3 1 1 1 0 0 4 1 3 0 4 1 0 4 1 0 0 0 0 0 1 0 0 3 0\n",
      " 0 0 2 0 3 4 1 3 2 0 0 0 1 3 1 1 0 3 4 0 3 3 3 0 1 1 0 0 0 0 0 0 0 0 1 1 0\n",
      " 0 0 1 1 1 1 1 0 3 0 1 0 0 1 3 1 1 0 1 0 0 1 0 1 0 3 0 0 0 0 0 0 3 1 1 0 4\n",
      " 0 1 1 0 3 2 4 0 0 1 0 0 1 0 0 0 1 3 3 1 0 0 1 0 0 1 3 1 0 0 3 0 0 1 1 3 0\n",
      " 0 4 1 1 0 0 0 0 1 1 3 0 1 0 1 0 1 0 0 0 3 3 3 3 0 1 1 3 3 3 1 0 0 1 0 1 1\n",
      " 3 0 0 0 0 0 4 1 1 0 1 0 1 3 3 0 0 1 1 4 1 1 0 0 0 0 0 0 0 2 0 0 0 3 0 0 1\n",
      " 0 1 3 3 0 0 0 1 0 0 0 3 0 0 4 1 4 3 1 3 4 0 3 0 0 0 0 0 3 0 0 1 0 1 0 0 0\n",
      " 0 0 1 0 3 0 0 0 1 1 1 1 0 0 0 1 2 3 3 3 0 1 1 1 0 1 2 1 3 0 1 0 0 3 3 0 1\n",
      " 0 0 3 1 3 0 1 3 0 0 0 0 0 4 1 0 1 0 0 3 0 0 3 3 0 0 1 3 0 2 3 0 3 0 3 0 0\n",
      " 0 1 0 0 4 0 1 4 0 0 4 0 4 3 0 3 0 0 3 3 1 0 0 3 0 0 0 1 0 3 1 0 0 1 0 1 0\n",
      " 3 1 1 0 3 1 0 1 3 0 0 1 0 2 0 1 0 0 0 0 0 0 0 3 0 1 0 0]\n",
      "------\n"
     ]
    }
   ],
   "source": [
    "from sklearn.cluster import KMeans, AgglomerativeClustering, DBSCAN\n",
    "from sklearn.mixture import GaussianMixture\n",
    "from sklearn.cluster import Birch\n",
    "\n",
    "clustering_algorithms = {\n",
    "    'K-Means': KMeans(n_clusters=5),\n",
    "    'Agglomerative': AgglomerativeClustering(n_clusters=5),\n",
    "    'DBSCAN': DBSCAN(eps=0.5, min_samples=5),\n",
    "    'GMM': GaussianMixture(n_components=5),\n",
    "    'BIRCH': Birch(n_clusters=5)\n",
    "}\n",
    "\n",
    "data = df\n",
    "\n",
    "for algorithm_name, algorithm in clustering_algorithms.items():\n",
    "    labels = algorithm.fit_predict(data)\n",
    "    print(f\"Algorithm: {algorithm_name}\")\n",
    "    print(\"Cluster Labels:\")\n",
    "    print(labels)\n",
    "    print(\"------\")\n"
   ]
  },
  {
   "cell_type": "code",
   "execution_count": null,
   "id": "11d8b624",
   "metadata": {},
   "outputs": [],
   "source": []
  },
  {
   "cell_type": "code",
   "execution_count": null,
   "id": "899d91d0",
   "metadata": {},
   "outputs": [],
   "source": []
  }
 ],
 "metadata": {
  "kernelspec": {
   "display_name": "Python 3 (ipykernel)",
   "language": "python",
   "name": "python3"
  },
  "language_info": {
   "codemirror_mode": {
    "name": "ipython",
    "version": 3
   },
   "file_extension": ".py",
   "mimetype": "text/x-python",
   "name": "python",
   "nbconvert_exporter": "python",
   "pygments_lexer": "ipython3",
   "version": "3.10.9"
  }
 },
 "nbformat": 4,
 "nbformat_minor": 5
}
